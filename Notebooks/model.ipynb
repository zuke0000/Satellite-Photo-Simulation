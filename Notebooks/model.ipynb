{
 "cells": [
  {
   "cell_type": "code",
   "execution_count": 14,
   "metadata": {},
   "outputs": [],
   "source": [
    "\n",
    "from torchsummary import summary\n"
   ]
  },
  {
   "cell_type": "code",
   "execution_count": 23,
   "metadata": {},
   "outputs": [],
   "source": [
    "from PIL import Image\n",
    "import matplotlib.pyplot as plt\n",
    "from torchvision import transforms, models\n",
    "import json\n",
    "import torch\n",
    "import vggnet\n",
    "from torchsummary import summary\n",
    "from pytorch_model_summary import summary # anaconda import for torch summary"
   ]
  },
  {
   "cell_type": "code",
   "execution_count": 26,
   "metadata": {},
   "outputs": [
    {
     "name": "stdout",
     "output_type": "stream",
     "text": [
      "----------------------------------------------------------------\n",
      "        Layer (type)               Output Shape         Param #\n",
      "================================================================\n",
      "            Conv2d-1         [-1, 64, 512, 512]           1,792\n",
      "              ReLU-2         [-1, 64, 512, 512]               0\n",
      "            Conv2d-3         [-1, 64, 512, 512]          36,928\n",
      "              ReLU-4         [-1, 64, 512, 512]               0\n",
      "         MaxPool2d-5         [-1, 64, 256, 256]               0\n",
      "            Conv2d-6        [-1, 128, 256, 256]          73,856\n",
      "              ReLU-7        [-1, 128, 256, 256]               0\n",
      "            Conv2d-8        [-1, 128, 256, 256]         147,584\n",
      "              ReLU-9        [-1, 128, 256, 256]               0\n",
      "        MaxPool2d-10        [-1, 128, 128, 128]               0\n",
      "           Conv2d-11        [-1, 256, 128, 128]         295,168\n",
      "             ReLU-12        [-1, 256, 128, 128]               0\n",
      "           Conv2d-13        [-1, 256, 128, 128]         590,080\n",
      "             ReLU-14        [-1, 256, 128, 128]               0\n",
      "           Conv2d-15        [-1, 256, 128, 128]         590,080\n",
      "             ReLU-16        [-1, 256, 128, 128]               0\n",
      "           Conv2d-17        [-1, 256, 128, 128]         590,080\n",
      "             ReLU-18        [-1, 256, 128, 128]               0\n",
      "        MaxPool2d-19          [-1, 256, 64, 64]               0\n",
      "           Conv2d-20          [-1, 512, 64, 64]       1,180,160\n",
      "             ReLU-21          [-1, 512, 64, 64]               0\n",
      "           Conv2d-22          [-1, 512, 64, 64]       2,359,808\n",
      "             ReLU-23          [-1, 512, 64, 64]               0\n",
      "           Conv2d-24          [-1, 512, 64, 64]       2,359,808\n",
      "             ReLU-25          [-1, 512, 64, 64]               0\n",
      "           Conv2d-26          [-1, 512, 64, 64]       2,359,808\n",
      "             ReLU-27          [-1, 512, 64, 64]               0\n",
      "           Conv2d-28          [-1, 512, 64, 64]       2,359,808\n",
      "             ReLU-29          [-1, 512, 64, 64]               0\n",
      "           Conv2d-30          [-1, 512, 64, 64]       2,359,808\n",
      "             ReLU-31          [-1, 512, 64, 64]               0\n",
      "           Conv2d-32          [-1, 512, 64, 64]       2,359,808\n",
      "             ReLU-33          [-1, 512, 64, 64]               0\n",
      "           Conv2d-34          [-1, 512, 64, 64]       2,359,808\n",
      "             ReLU-35          [-1, 512, 64, 64]               0\n",
      "              VGG-36  [[-1, 512, 64, 64], [-1, 512, 64, 64], [-1, 256, 128, 128], [-1, 128, 256, 256], [-1, 64, 512, 512]]               0\n",
      "================================================================\n",
      "Total params: 20,024,384\n",
      "Trainable params: 20,024,384\n",
      "Non-trainable params: 0\n",
      "----------------------------------------------------------------\n",
      "Input size (MB): 3.00\n",
      "Forward/backward pass size (MB): 1336.00\n",
      "Params size (MB): 76.39\n",
      "Estimated Total Size (MB): 1415.39\n",
      "----------------------------------------------------------------\n",
      "\n"
     ]
    },
    {
     "data": {
      "text/plain": [
       "(tensor(20024384), tensor(20024384))"
      ]
     },
     "execution_count": 26,
     "metadata": {},
     "output_type": "execute_result"
    }
   ],
   "source": [
    "weights = torch.load('vgg19_unet_inria.tar', map_location='cpu')\n",
    "\n",
    "model = vggnet.vgg19(False, (2, 2, 2, 1, 1), True)\n",
    "from torchsummary import summary\n",
    "#from pytorch_model_summary import summary\n",
    "summary(model, (3, 512, 512), device='cpu')"
   ]
  },
  {
   "cell_type": "code",
   "execution_count": 4,
   "metadata": {},
   "outputs": [
    {
     "name": "stderr",
     "output_type": "stream",
     "text": [
      "Traceback (most recent call last):\n",
      "  File \"e:\\Research\\Notebooks\\data\\data_loader.py\", line 204, in <module>\n",
      "    from data import data_utils\n",
      "ModuleNotFoundError: No module named 'data'\n"
     ]
    }
   ],
   "source": [
    "# setup data\n",
    "\n",
    "#!python data\\data_utils.py\n",
    "!python data\\data_loader.py\n"
   ]
  },
  {
   "cell_type": "code",
   "execution_count": 2,
   "metadata": {},
   "outputs": [],
   "source": []
  },
  {
   "cell_type": "code",
   "execution_count": null,
   "metadata": {},
   "outputs": [],
   "source": []
  }
 ],
 "metadata": {
  "kernelspec": {
   "display_name": "base",
   "language": "python",
   "name": "python3"
  },
  "language_info": {
   "codemirror_mode": {
    "name": "ipython",
    "version": 3
   },
   "file_extension": ".py",
   "mimetype": "text/x-python",
   "name": "python",
   "nbconvert_exporter": "python",
   "pygments_lexer": "ipython3",
   "version": "3.10.9"
  },
  "orig_nbformat": 4
 },
 "nbformat": 4,
 "nbformat_minor": 2
}
